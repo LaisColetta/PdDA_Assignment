{
 "cells": [
  {
   "cell_type": "markdown",
   "id": "3d241d8a",
   "metadata": {},
   "source": [
    "# Programing for Data Analysis Assignment\n",
    "\n",
    "<b>Student name: Lais Coletta Pereira </b>\n",
    "\n",
    "Calendar\n",
    "today - select a data set that would work in this project and understands what this project is about\n",
    "Tomorrow - same\n",
    "24.11 - start analysis\n",
    "25.11 - select variables \n",
    "26.11 - select type of distribution \n",
    "27.11 - \n",
    "28.11\n",
    "29.11\n",
    "30.11\n",
    "1.12\n",
    "2.12\n",
    "3.12\n",
    "4.12\n",
    "\n",
    "\n",
    "## Introduction\n",
    "This project aims to syntesize and model the Earth's temperature change dataset. For this project I will use onl taking into consideration certain (variables). \n",
    "This dataset was downloaded from the website kaggle.com (https://www.kaggle.com/datasets/berkeleyearth/climate-change-earth-surface-temperature-data) and more information about the data collection and creation can be found in the README file in this repository."
   ]
  },
  {
   "cell_type": "code",
   "execution_count": 23,
   "id": "30a9acbb",
   "metadata": {},
   "outputs": [
    {
     "name": "stdout",
     "output_type": "stream",
     "text": [
      "                dt  AverageTemperature  AverageTemperatureUncertainty  \\\n",
      "0       1743-11-01               4.384                          2.294   \n",
      "1       1743-12-01                 NaN                            NaN   \n",
      "2       1744-01-01                 NaN                            NaN   \n",
      "3       1744-02-01                 NaN                            NaN   \n",
      "4       1744-03-01                 NaN                            NaN   \n",
      "...            ...                 ...                            ...   \n",
      "577457  2013-05-01              19.059                          1.022   \n",
      "577458  2013-06-01              17.613                          0.473   \n",
      "577459  2013-07-01              17.000                          0.453   \n",
      "577460  2013-08-01              19.759                          0.717   \n",
      "577461  2013-09-01                 NaN                            NaN   \n",
      "\n",
      "         Country  \n",
      "0          Åland  \n",
      "1          Åland  \n",
      "2          Åland  \n",
      "3          Åland  \n",
      "4          Åland  \n",
      "...          ...  \n",
      "577457  Zimbabwe  \n",
      "577458  Zimbabwe  \n",
      "577459  Zimbabwe  \n",
      "577460  Zimbabwe  \n",
      "577461  Zimbabwe  \n",
      "\n",
      "[577462 rows x 4 columns]\n"
     ]
    }
   ],
   "source": [
    "#import packages needed to analyse the dataset\n",
    "import numpy as np\n",
    "import pandas as pd\n",
    "import seaborn as sns\n",
    "import matplotlib.pyplot as plt\n",
    "\n",
    "#call a function that stops showing the warning boxes in jupyter notebook\n",
    "import warnings\n",
    "warnings.filterwarnings('ignore')\n",
    "\n",
    "#read dataset and create the 'df' variable\n",
    "df = pd.read_csv ('GlobalLandTemperaturesByCountry.csv')\n",
    "print (df)"
   ]
  },
  {
   "cell_type": "markdown",
   "id": "4a70efae",
   "metadata": {},
   "source": [
    "Using the describe() function we can have an overview of this large dataset. This function is used to generate descriptive statistics that summarize the central tendency, dispersion, and shape of a dataset's distribution. The definition of each parameter we have when calling this function are:\n",
    "\n",
    "<i>count - The number of not-empty values;\n",
    "mean - The average (mean) value;\n",
    "std - The standard deviation;\n",
    "min - the minimum value;\n",
    "25% - The 25% percentile*;\n",
    "50% - The 50% percentile*;\n",
    "75% - The 75% percentile*;\n",
    "max - the maximum value.\n",
    "\n",
    "*Percentile meaning: how many of the values are less than the given percentile.\n",
    "\n",
    " Reference: w3resource.com/pandas/dataframe/dataframe-describe.php) </i>"
   ]
  },
  {
   "cell_type": "code",
   "execution_count": 24,
   "id": "f2668342",
   "metadata": {},
   "outputs": [
    {
     "data": {
      "text/html": [
       "<div>\n",
       "<style scoped>\n",
       "    .dataframe tbody tr th:only-of-type {\n",
       "        vertical-align: middle;\n",
       "    }\n",
       "\n",
       "    .dataframe tbody tr th {\n",
       "        vertical-align: top;\n",
       "    }\n",
       "\n",
       "    .dataframe thead th {\n",
       "        text-align: right;\n",
       "    }\n",
       "</style>\n",
       "<table border=\"1\" class=\"dataframe\">\n",
       "  <thead>\n",
       "    <tr style=\"text-align: right;\">\n",
       "      <th></th>\n",
       "      <th>AverageTemperature</th>\n",
       "      <th>AverageTemperatureUncertainty</th>\n",
       "    </tr>\n",
       "  </thead>\n",
       "  <tbody>\n",
       "    <tr>\n",
       "      <th>count</th>\n",
       "      <td>544811.000000</td>\n",
       "      <td>545550.000000</td>\n",
       "    </tr>\n",
       "    <tr>\n",
       "      <th>mean</th>\n",
       "      <td>17.193354</td>\n",
       "      <td>1.019057</td>\n",
       "    </tr>\n",
       "    <tr>\n",
       "      <th>std</th>\n",
       "      <td>10.953966</td>\n",
       "      <td>1.201930</td>\n",
       "    </tr>\n",
       "    <tr>\n",
       "      <th>min</th>\n",
       "      <td>-37.658000</td>\n",
       "      <td>0.052000</td>\n",
       "    </tr>\n",
       "    <tr>\n",
       "      <th>25%</th>\n",
       "      <td>10.025000</td>\n",
       "      <td>0.323000</td>\n",
       "    </tr>\n",
       "    <tr>\n",
       "      <th>50%</th>\n",
       "      <td>20.901000</td>\n",
       "      <td>0.571000</td>\n",
       "    </tr>\n",
       "    <tr>\n",
       "      <th>75%</th>\n",
       "      <td>25.814000</td>\n",
       "      <td>1.206000</td>\n",
       "    </tr>\n",
       "    <tr>\n",
       "      <th>max</th>\n",
       "      <td>38.842000</td>\n",
       "      <td>15.003000</td>\n",
       "    </tr>\n",
       "  </tbody>\n",
       "</table>\n",
       "</div>"
      ],
      "text/plain": [
       "       AverageTemperature  AverageTemperatureUncertainty\n",
       "count       544811.000000                  545550.000000\n",
       "mean            17.193354                       1.019057\n",
       "std             10.953966                       1.201930\n",
       "min            -37.658000                       0.052000\n",
       "25%             10.025000                       0.323000\n",
       "50%             20.901000                       0.571000\n",
       "75%             25.814000                       1.206000\n",
       "max             38.842000                      15.003000"
      ]
     },
     "execution_count": 24,
     "metadata": {},
     "output_type": "execute_result"
    }
   ],
   "source": [
    "df.describe ()"
   ]
  },
  {
   "cell_type": "markdown",
   "id": "9719ed86",
   "metadata": {},
   "source": [
    "Using the value_counts() function, we can see an I organized by species of flowers. We have exactly 50 of each species, Iris Setosa, Iris Versicolor, and Iris Virginica."
   ]
  },
  {
   "cell_type": "code",
   "execution_count": 26,
   "id": "e97970cd",
   "metadata": {},
   "outputs": [
    {
     "data": {
      "text/plain": [
       "Åland                                  3239\n",
       "Faroe Islands                          3239\n",
       "Greece                                 3239\n",
       "Germany                                3239\n",
       "Saint Pierre And Miquelon              3239\n",
       "                                       ... \n",
       "Northern Mariana Islands               1329\n",
       "Guam                                   1329\n",
       "Heard Island And Mcdonald Islands       788\n",
       "French Southern And Antarctic Lands     788\n",
       "Antarctica                              764\n",
       "Name: Country, Length: 243, dtype: int64"
      ]
     },
     "execution_count": 26,
     "metadata": {},
     "output_type": "execute_result"
    }
   ],
   "source": [
    "df.Country.value_counts()"
   ]
  },
  {
   "cell_type": "markdown",
   "id": "4e868a20",
   "metadata": {},
   "source": [
    "### Analysing the 'GlobalLandTemperaturesByCountry.csv' dataset\n",
    "\n",
    "This is a large dataset and for the matter of this project I will slice it to make it smaller and easier to analyse. I am going to syntesize the data of only Ireland's temperature from 1900 to 2013"
   ]
  },
  {
   "cell_type": "code",
   "execution_count": null,
   "id": "232c7f0f",
   "metadata": {},
   "outputs": [],
   "source": []
  }
 ],
 "metadata": {
  "kernelspec": {
   "display_name": "Python 3 (ipykernel)",
   "language": "python",
   "name": "python3"
  },
  "language_info": {
   "codemirror_mode": {
    "name": "ipython",
    "version": 3
   },
   "file_extension": ".py",
   "mimetype": "text/x-python",
   "name": "python",
   "nbconvert_exporter": "python",
   "pygments_lexer": "ipython3",
   "version": "3.9.7"
  }
 },
 "nbformat": 4,
 "nbformat_minor": 5
}
