{
 "cells": [
  {
   "cell_type": "markdown",
   "id": "3d241d8a",
   "metadata": {},
   "source": [
    "#Programing for Data Analysis Assignment\n",
    "\n",
    "Options project: \n",
    "https://datacatalog.worldbank.org/search/dataset/0040205\n",
    "\n",
    "Offshore Geology\n",
    "Published by: Department of Communications, Climate Action & Environment\n",
    " 21 \n",
    "Licensed under: Creative Commons Attribution 4.0\n",
    "Theme: Science\n",
    "Views: 1220\n",
    "Openness rating: \n",
    " Dataset Actions\n",
    "The Regional Ocean Modeling System (ROMS) is a free-surface, terrain-following, primitive equations ocean model widely used by the scientific community for a diverse range of applications. The operational Northeast Atlantic (NEATL) model is an implementation of the ROMS model that covers all Irish waters. The NEATL dataset contains parameters output by this model such as sea surface height (m), sea temperature (C), salinity, sea water X velocity (m/s) and sea water Y velocity (m/s). The NEATL model covers a portion of the eastern Atlantic ocean that from Iberian Peninsula to Iceland. The average horizontal resolution of the model grid is approximately 1900 metres but the horizontal horizontal resolution around Irish coastal waters is 1100 to 1500 metres. Model data was produced for the previous 30 days and 3 days into the future. The NEATL model was an operational model forced by operational atmospheric (ECMWF) and boundary (Copernicus GLOBAL_ANALYSIS_FORECAST_PHY_001_024) forcing. The NEATL operational system has provided a daily 3-day forecast and a weekly 7-day analysis. The NEATL model was run to forecast oceanographic parameters such as temperature, sea level and currents level for Irish coastal waters to support a variety of end-user services such as HAB (harmful algal bloom) warning systems and maritime search and rescue. The NEATL model was operated by the Oceanographic Services team within Ocean Science and Information Services division of the Marine Institute (Ireland). Model completed for the days it is operational and produced output.\n",
    "\n",
    "https://datacatalog.worldbank.org/search/dataset/0040205\n",
    "Data from World Development Indicators and Climate Change Knowledge Portal on climate systems, exposure to climate impacts, resilience, greenhouse gas emissions, and energy use.\n",
    "\n",
    "excel\n",
    "\n",
    "https://datacatalog.worldbank.org/search/dataset/0037769/Harmonized-COVID-19-Household-Monitoring-Surveys\n",
    "\n",
    "The dataset contains harmonized indicators created from high-frequency phone surveys collected by the World Bank and partners. The surveys capture the socioeconomic impacts of the COVID-19 pandemic on households and individuals from all developing regions. Data are available for over 155 indicators in 16 topic areas, including education, food security, income, safety nets, and others. For more information, please refer to our Technical Note and Data Dictionary.\n",
    "\n",
    "https://data.gov.ie/dataset/unesco-sites-in-ireland?package_type=dataset\n",
    "This dataset displays the UNESCO World Heritage sites and Geoparks across the island of Ireland.\n",
    "\n",
    "https://data.world/data-society/global-climate-change-data\n",
    "temperature change - compare brazil, ireland china?\n",
    "\n",
    "https://www.kaggle.com/datasets/whenamancodes/world-happiness-report\n",
    "\n",
    "The happiness scores and rankings use data from the Gallup World Poll. The scores are based on answers to the main life evaluation question asked in the poll. This question, known as the Cantril ladder, asks respondents to think of a ladder with the best possible life for them being a 10 and the worst possible life being a 0 and to rate their own current lives on that scale. The scores are from nationally representative samples for the years 2013-2016 and use the Gallup weights to make the estimates representative. The columns following the happiness score estimate the extent to which each of six factors – economic production, social support, life expectancy, freedom, absence of corruption, and generosity – contribute to making life evaluations higher in each country than they are in Dystopia, a hypothetical country that has values equal to the world’s lowest national averages for each of the six factors. They have no impact on the total score reported for each country, but they do explain why some countries rank higher than others.\n",
    "\n",
    "https://www.kaggle.com/datasets/maharshipandya/-spotify-tracks-dataset\n",
    "This is a dataset of Spotify tracks over a range of 125 different genres. Each track has some audio features associated with it. The data is in CSV format which is tabular and can be loaded quickly.\n",
    "\n",
    "\n",
    "\n",
    "\n"
   ]
  }
 ],
 "metadata": {
  "kernelspec": {
   "display_name": "Python 3 (ipykernel)",
   "language": "python",
   "name": "python3"
  },
  "language_info": {
   "codemirror_mode": {
    "name": "ipython",
    "version": 3
   },
   "file_extension": ".py",
   "mimetype": "text/x-python",
   "name": "python",
   "nbconvert_exporter": "python",
   "pygments_lexer": "ipython3",
   "version": "3.9.12"
  }
 },
 "nbformat": 4,
 "nbformat_minor": 5
}
